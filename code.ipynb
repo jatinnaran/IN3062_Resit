{
  "nbformat": 4,
  "nbformat_minor": 0,
  "metadata": {
    "colab": {
      "name": "Jatinnaran988.ipynb",
      "provenance": [],
      "collapsed_sections": []
    },
    "kernelspec": {
      "name": "python3",
      "display_name": "Python 3"
    }
  },
  "cells": [
    {
      "cell_type": "markdown",
      "metadata": {
        "id": "z2CFF39rEaOO"
      },
      "source": [
        "### **Importing necessary libraries**"
      ]
    },
    {
      "cell_type": "code",
      "metadata": {
        "id": "871ZbPfCEMOK"
      },
      "source": [
        "import numpy as np\n",
        "import pandas as pd\n",
        "import matplotlib.pyplot as plt\n",
        "from matplotlib import rcParams\n",
        "import seaborn as sns\n",
        "from sklearn import preprocessing\n",
        "from sklearn.metrics import accuracy_score\n",
        "from sklearn.metrics import confusion_matrix \n",
        "from sklearn.naive_bayes import GaussianNB\n",
        "from sklearn.neighbors import KNeighborsClassifier\n",
        "from sklearn import svm\n",
        "from sklearn.tree import DecisionTreeClassifier\n",
        "from sklearn.ensemble import RandomForestClassifier\n",
        "from sklearn.linear_model import LogisticRegression\n",
        "from sklearn.ensemble import GradientBoostingClassifier"
      ],
      "execution_count": 1,
      "outputs": []
    },
    {
      "cell_type": "markdown",
      "metadata": {
        "id": "_KARMLr_E2WV"
      },
      "source": [
        "### **Importing churn data**"
      ]
    },
    {
      "cell_type": "code",
      "metadata": {
        "id": "ZXFGptkvESFH"
      },
      "source": [
        "df = pd.read_csv(\"/content/drive/MyDrive/dataset/Churn_Modelling.csv\") #load dataset"
      ],
      "execution_count": 4,
      "outputs": []
    },
    {
      "cell_type": "code",
      "metadata": {
        "colab": {
          "base_uri": "https://localhost:8080/",
          "height": 204
        },
        "id": "pU1tGXbpHBnb",
        "outputId": "67614fd0-ae41-436c-890f-0e0dbc3e38a4"
      },
      "source": [
        "df.head() # showing top 5 rows"
      ],
      "execution_count": 5,
      "outputs": [
        {
          "output_type": "execute_result",
          "data": {
            "text/html": [
              "<div>\n",
              "<style scoped>\n",
              "    .dataframe tbody tr th:only-of-type {\n",
              "        vertical-align: middle;\n",
              "    }\n",
              "\n",
              "    .dataframe tbody tr th {\n",
              "        vertical-align: top;\n",
              "    }\n",
              "\n",
              "    .dataframe thead th {\n",
              "        text-align: right;\n",
              "    }\n",
              "</style>\n",
              "<table border=\"1\" class=\"dataframe\">\n",
              "  <thead>\n",
              "    <tr style=\"text-align: right;\">\n",
              "      <th></th>\n",
              "      <th>CustomerId</th>\n",
              "      <th>CredRate</th>\n",
              "      <th>Geography</th>\n",
              "      <th>Gender</th>\n",
              "      <th>Age</th>\n",
              "      <th>Tenure</th>\n",
              "      <th>Balance</th>\n",
              "      <th>Prod Number</th>\n",
              "      <th>HasCrCard</th>\n",
              "      <th>ActMem</th>\n",
              "      <th>EstimatedSalary</th>\n",
              "      <th>Exited</th>\n",
              "    </tr>\n",
              "  </thead>\n",
              "  <tbody>\n",
              "    <tr>\n",
              "      <th>0</th>\n",
              "      <td>15634602</td>\n",
              "      <td>619</td>\n",
              "      <td>France</td>\n",
              "      <td>Female</td>\n",
              "      <td>42.0</td>\n",
              "      <td>2</td>\n",
              "      <td>0.00</td>\n",
              "      <td>1</td>\n",
              "      <td>1</td>\n",
              "      <td>1</td>\n",
              "      <td>101348.88</td>\n",
              "      <td>1</td>\n",
              "    </tr>\n",
              "    <tr>\n",
              "      <th>1</th>\n",
              "      <td>15647311</td>\n",
              "      <td>608</td>\n",
              "      <td>Spain</td>\n",
              "      <td>Female</td>\n",
              "      <td>41.0</td>\n",
              "      <td>1</td>\n",
              "      <td>83807.86</td>\n",
              "      <td>1</td>\n",
              "      <td>0</td>\n",
              "      <td>1</td>\n",
              "      <td>112542.58</td>\n",
              "      <td>0</td>\n",
              "    </tr>\n",
              "    <tr>\n",
              "      <th>2</th>\n",
              "      <td>15619304</td>\n",
              "      <td>502</td>\n",
              "      <td>France</td>\n",
              "      <td>Female</td>\n",
              "      <td>42.0</td>\n",
              "      <td>8</td>\n",
              "      <td>159660.80</td>\n",
              "      <td>3</td>\n",
              "      <td>1</td>\n",
              "      <td>0</td>\n",
              "      <td>113931.57</td>\n",
              "      <td>1</td>\n",
              "    </tr>\n",
              "    <tr>\n",
              "      <th>3</th>\n",
              "      <td>15701354</td>\n",
              "      <td>699</td>\n",
              "      <td>France</td>\n",
              "      <td>Female</td>\n",
              "      <td>39.0</td>\n",
              "      <td>1</td>\n",
              "      <td>0.00</td>\n",
              "      <td>2</td>\n",
              "      <td>0</td>\n",
              "      <td>0</td>\n",
              "      <td>93826.63</td>\n",
              "      <td>0</td>\n",
              "    </tr>\n",
              "    <tr>\n",
              "      <th>4</th>\n",
              "      <td>15737888</td>\n",
              "      <td>850</td>\n",
              "      <td>Spain</td>\n",
              "      <td>Female</td>\n",
              "      <td>43.0</td>\n",
              "      <td>2</td>\n",
              "      <td>125510.82</td>\n",
              "      <td>1</td>\n",
              "      <td>1</td>\n",
              "      <td>1</td>\n",
              "      <td>79084.10</td>\n",
              "      <td>0</td>\n",
              "    </tr>\n",
              "  </tbody>\n",
              "</table>\n",
              "</div>"
            ],
            "text/plain": [
              "   CustomerId  CredRate Geography  ... ActMem  EstimatedSalary  Exited\n",
              "0    15634602       619    France  ...      1        101348.88       1\n",
              "1    15647311       608     Spain  ...      1        112542.58       0\n",
              "2    15619304       502    France  ...      0        113931.57       1\n",
              "3    15701354       699    France  ...      0         93826.63       0\n",
              "4    15737888       850     Spain  ...      1         79084.10       0\n",
              "\n",
              "[5 rows x 12 columns]"
            ]
          },
          "metadata": {},
          "execution_count": 5
        }
      ]
    },
    {
      "cell_type": "markdown",
      "metadata": {
        "id": "lBvJNRrCI_vR"
      },
      "source": [
        "## **Data understanding/ Preprocessing**\n",
        "\n"
      ]
    },
    {
      "cell_type": "code",
      "metadata": {
        "colab": {
          "base_uri": "https://localhost:8080/"
        },
        "id": "lqRgvNZBIYgT",
        "outputId": "83345555-2a25-41e6-e46a-e692c146ce3c"
      },
      "source": [
        "# Check columns missing values\n",
        "df.isnull().sum()"
      ],
      "execution_count": 6,
      "outputs": [
        {
          "output_type": "execute_result",
          "data": {
            "text/plain": [
              "CustomerId         0\n",
              "CredRate           0\n",
              "Geography          0\n",
              "Gender             4\n",
              "Age                6\n",
              "Tenure             0\n",
              "Balance            0\n",
              "Prod Number        0\n",
              "HasCrCard          0\n",
              "ActMem             0\n",
              "EstimatedSalary    4\n",
              "Exited             0\n",
              "dtype: int64"
            ]
          },
          "metadata": {},
          "execution_count": 6
        }
      ]
    },
    {
      "cell_type": "code",
      "metadata": {
        "id": "J6aG_Sl6IuW-"
      },
      "source": [
        "#drop na values\n",
        "df.dropna(inplace=True)"
      ],
      "execution_count": 7,
      "outputs": []
    },
    {
      "cell_type": "code",
      "metadata": {
        "colab": {
          "base_uri": "https://localhost:8080/"
        },
        "id": "iTJrKpYPKw5E",
        "outputId": "3efcb4c5-ff0b-4016-95bf-f89d5f05d7ca"
      },
      "source": [
        "# Count unique values of our data\n",
        "df.nunique()"
      ],
      "execution_count": 8,
      "outputs": [
        {
          "output_type": "execute_result",
          "data": {
            "text/plain": [
              "CustomerId         9986\n",
              "CredRate            460\n",
              "Geography             3\n",
              "Gender                2\n",
              "Age                  70\n",
              "Tenure               11\n",
              "Balance            6377\n",
              "Prod Number           4\n",
              "HasCrCard             2\n",
              "ActMem                2\n",
              "EstimatedSalary    9985\n",
              "Exited                2\n",
              "dtype: int64"
            ]
          },
          "metadata": {},
          "execution_count": 8
        }
      ]
    },
    {
      "cell_type": "code",
      "metadata": {
        "id": "Rcpv7-aRHC_R"
      },
      "source": [
        "#drop custumer id\n",
        "df.drop(['CustomerId'],axis=1,inplace=True) #inplace=True changes in actual data"
      ],
      "execution_count": 9,
      "outputs": []
    },
    {
      "cell_type": "code",
      "metadata": {
        "colab": {
          "base_uri": "https://localhost:8080/"
        },
        "id": "2dO8nqIWLMHC",
        "outputId": "bf745fff-82af-4301-b4a0-3eb1a8ac6b29"
      },
      "source": [
        "# Check data types for all features\n",
        "df.dtypes"
      ],
      "execution_count": 10,
      "outputs": [
        {
          "output_type": "execute_result",
          "data": {
            "text/plain": [
              "CredRate             int64\n",
              "Geography           object\n",
              "Gender              object\n",
              "Age                float64\n",
              "Tenure               int64\n",
              "Balance            float64\n",
              "Prod Number          int64\n",
              "HasCrCard            int64\n",
              "ActMem               int64\n",
              "EstimatedSalary    float64\n",
              "Exited               int64\n",
              "dtype: object"
            ]
          },
          "metadata": {},
          "execution_count": 10
        }
      ]
    },
    {
      "cell_type": "code",
      "metadata": {
        "colab": {
          "base_uri": "https://localhost:8080/"
        },
        "id": "u9RWsl3ZM9mu",
        "outputId": "d74afb43-ccf3-41f4-daa9-029c91963d2d"
      },
      "source": [
        "# Check the dimension of our dataset\n",
        "df.shape"
      ],
      "execution_count": 11,
      "outputs": [
        {
          "output_type": "execute_result",
          "data": {
            "text/plain": [
              "(9986, 11)"
            ]
          },
          "metadata": {},
          "execution_count": 11
        }
      ]
    },
    {
      "cell_type": "code",
      "metadata": {
        "colab": {
          "base_uri": "https://localhost:8080/",
          "height": 297
        },
        "id": "ewLEDgZiNfm9",
        "outputId": "09eecfc3-6d21-4030-d9fd-81246276116f"
      },
      "source": [
        "# Describe the all statistical properties of our dataset\n",
        "df.describe()"
      ],
      "execution_count": 12,
      "outputs": [
        {
          "output_type": "execute_result",
          "data": {
            "text/html": [
              "<div>\n",
              "<style scoped>\n",
              "    .dataframe tbody tr th:only-of-type {\n",
              "        vertical-align: middle;\n",
              "    }\n",
              "\n",
              "    .dataframe tbody tr th {\n",
              "        vertical-align: top;\n",
              "    }\n",
              "\n",
              "    .dataframe thead th {\n",
              "        text-align: right;\n",
              "    }\n",
              "</style>\n",
              "<table border=\"1\" class=\"dataframe\">\n",
              "  <thead>\n",
              "    <tr style=\"text-align: right;\">\n",
              "      <th></th>\n",
              "      <th>CredRate</th>\n",
              "      <th>Age</th>\n",
              "      <th>Tenure</th>\n",
              "      <th>Balance</th>\n",
              "      <th>Prod Number</th>\n",
              "      <th>HasCrCard</th>\n",
              "      <th>ActMem</th>\n",
              "      <th>EstimatedSalary</th>\n",
              "      <th>Exited</th>\n",
              "    </tr>\n",
              "  </thead>\n",
              "  <tbody>\n",
              "    <tr>\n",
              "      <th>count</th>\n",
              "      <td>9986.000000</td>\n",
              "      <td>9986.000000</td>\n",
              "      <td>9986.000000</td>\n",
              "      <td>9986.000000</td>\n",
              "      <td>9986.000000</td>\n",
              "      <td>9986.000000</td>\n",
              "      <td>9986.000000</td>\n",
              "      <td>9986.000000</td>\n",
              "      <td>9986.000000</td>\n",
              "    </tr>\n",
              "    <tr>\n",
              "      <th>mean</th>\n",
              "      <td>650.564691</td>\n",
              "      <td>38.927799</td>\n",
              "      <td>5.010415</td>\n",
              "      <td>76539.635906</td>\n",
              "      <td>1.530142</td>\n",
              "      <td>0.705588</td>\n",
              "      <td>0.515121</td>\n",
              "      <td>100084.539598</td>\n",
              "      <td>0.203885</td>\n",
              "    </tr>\n",
              "    <tr>\n",
              "      <th>std</th>\n",
              "      <td>96.604678</td>\n",
              "      <td>10.491053</td>\n",
              "      <td>2.891614</td>\n",
              "      <td>62391.288935</td>\n",
              "      <td>0.581765</td>\n",
              "      <td>0.455801</td>\n",
              "      <td>0.499796</td>\n",
              "      <td>57511.969095</td>\n",
              "      <td>0.402905</td>\n",
              "    </tr>\n",
              "    <tr>\n",
              "      <th>min</th>\n",
              "      <td>350.000000</td>\n",
              "      <td>18.000000</td>\n",
              "      <td>0.000000</td>\n",
              "      <td>0.000000</td>\n",
              "      <td>1.000000</td>\n",
              "      <td>0.000000</td>\n",
              "      <td>0.000000</td>\n",
              "      <td>11.580000</td>\n",
              "      <td>0.000000</td>\n",
              "    </tr>\n",
              "    <tr>\n",
              "      <th>25%</th>\n",
              "      <td>584.000000</td>\n",
              "      <td>32.000000</td>\n",
              "      <td>3.000000</td>\n",
              "      <td>0.000000</td>\n",
              "      <td>1.000000</td>\n",
              "      <td>0.000000</td>\n",
              "      <td>0.000000</td>\n",
              "      <td>50983.750000</td>\n",
              "      <td>0.000000</td>\n",
              "    </tr>\n",
              "    <tr>\n",
              "      <th>50%</th>\n",
              "      <td>652.000000</td>\n",
              "      <td>37.000000</td>\n",
              "      <td>5.000000</td>\n",
              "      <td>97262.675000</td>\n",
              "      <td>1.000000</td>\n",
              "      <td>1.000000</td>\n",
              "      <td>1.000000</td>\n",
              "      <td>100193.915000</td>\n",
              "      <td>0.000000</td>\n",
              "    </tr>\n",
              "    <tr>\n",
              "      <th>75%</th>\n",
              "      <td>717.750000</td>\n",
              "      <td>44.000000</td>\n",
              "      <td>7.000000</td>\n",
              "      <td>127653.825000</td>\n",
              "      <td>2.000000</td>\n",
              "      <td>1.000000</td>\n",
              "      <td>1.000000</td>\n",
              "      <td>149395.882500</td>\n",
              "      <td>0.000000</td>\n",
              "    </tr>\n",
              "    <tr>\n",
              "      <th>max</th>\n",
              "      <td>850.000000</td>\n",
              "      <td>92.000000</td>\n",
              "      <td>10.000000</td>\n",
              "      <td>250898.090000</td>\n",
              "      <td>4.000000</td>\n",
              "      <td>1.000000</td>\n",
              "      <td>1.000000</td>\n",
              "      <td>199992.480000</td>\n",
              "      <td>1.000000</td>\n",
              "    </tr>\n",
              "  </tbody>\n",
              "</table>\n",
              "</div>"
            ],
            "text/plain": [
              "          CredRate          Age  ...  EstimatedSalary       Exited\n",
              "count  9986.000000  9986.000000  ...      9986.000000  9986.000000\n",
              "mean    650.564691    38.927799  ...    100084.539598     0.203885\n",
              "std      96.604678    10.491053  ...     57511.969095     0.402905\n",
              "min     350.000000    18.000000  ...        11.580000     0.000000\n",
              "25%     584.000000    32.000000  ...     50983.750000     0.000000\n",
              "50%     652.000000    37.000000  ...    100193.915000     0.000000\n",
              "75%     717.750000    44.000000  ...    149395.882500     0.000000\n",
              "max     850.000000    92.000000  ...    199992.480000     1.000000\n",
              "\n",
              "[8 rows x 9 columns]"
            ]
          },
          "metadata": {},
          "execution_count": 12
        }
      ]
    },
    {
      "cell_type": "code",
      "metadata": {
        "id": "CX5-vLQe6oFl",
        "colab": {
          "base_uri": "https://localhost:8080/"
        },
        "outputId": "32da5a53-b044-437d-962f-128819767230"
      },
      "source": [
        "y_bar=df['Exited'].value_counts()\n",
        "y_bar\n",
        "list(y_bar.index)"
      ],
      "execution_count": 13,
      "outputs": [
        {
          "output_type": "execute_result",
          "data": {
            "text/plain": [
              "[0, 1]"
            ]
          },
          "metadata": {},
          "execution_count": 13
        }
      ]
    },
    {
      "cell_type": "code",
      "metadata": {
        "id": "dMpG9WZ57HSV",
        "colab": {
          "base_uri": "https://localhost:8080/"
        },
        "outputId": "e2cb3f50-277f-4d04-f067-bcaf22fc035b"
      },
      "source": [
        "df['Exited'].unique()"
      ],
      "execution_count": 14,
      "outputs": [
        {
          "output_type": "execute_result",
          "data": {
            "text/plain": [
              "array([1, 0])"
            ]
          },
          "metadata": {},
          "execution_count": 14
        }
      ]
    },
    {
      "cell_type": "code",
      "metadata": {
        "colab": {
          "base_uri": "https://localhost:8080/",
          "height": 455
        },
        "id": "_DjhoLgFNw_j",
        "outputId": "4ca37e80-9674-4450-c304-51d49e7e0958"
      },
      "source": [
        "# counting target values\n",
        "rcParams['figure.figsize'] = 8,6 #setting size of figure\n",
        "y_bar=df['Exited'].value_counts()\n",
        "plt.bar(y_bar.index, y_bar, color = ['green', 'red'])\n",
        "plt.xticks([1, 0])\n",
        "#add text in figure\n",
        "plt.text(0,y_bar[0]+20, str(y_bar[0]),fontsize=20,horizontalalignment='center')\n",
        "plt.text(1,y_bar[1]+20, str(y_bar[1]),fontsize=20,horizontalalignment='center')\n",
        "\n",
        "plt.xlabel('Target Class')\n",
        "plt.ylabel('Count')\n",
        "plt.title('Count of Target Class')\n",
        "y_bar"
      ],
      "execution_count": 15,
      "outputs": [
        {
          "output_type": "execute_result",
          "data": {
            "text/plain": [
              "0    7950\n",
              "1    2036\n",
              "Name: Exited, dtype: int64"
            ]
          },
          "metadata": {},
          "execution_count": 15
        },
        {
          "output_type": "display_data",
          "data": {
            "image/png": "[encoded data removed]",
            "text/plain": [
              "<Figure size 576x432 with 1 Axes>"
            ]
          },
          "metadata": {
            "needs_background": "light"
          }
        }
      ]
    },
    {
      "cell_type": "code",
      "metadata": {
        "id": "IcIN88srQd8D",
        "colab": {
          "base_uri": "https://localhost:8080/",
          "height": 731
        },
        "outputId": "daf3de0e-4376-464f-aaa4-13a80d17de0e"
      },
      "source": [
        "#seaborn plot for discreate values\n",
        "fig, axarr = plt.subplots(3, 2, figsize=(20, 12))\n",
        "sns.countplot(x='Geography', hue = 'Exited',data = df, ax=axarr[0][0])\n",
        "sns.countplot(x='Gender', hue = 'Exited',data = df, ax=axarr[0][1])\n",
        "sns.countplot(x='HasCrCard', hue = 'Exited',data = df, ax=axarr[1][0])\n",
        "sns.countplot(x='ActMem', hue = 'Exited',data = df, ax=axarr[1][1])\n",
        "sns.countplot(x='Prod Number', hue = 'Exited',data = df, ax=axarr[2][0])\n",
        "sns.countplot(x='Tenure', hue = 'Exited',data = df, ax=axarr[2][1])"
      ],
      "execution_count": 16,
      "outputs": [
        {
          "output_type": "execute_result",
          "data": {
            "text/plain": [
              "<matplotlib.axes._subplots.AxesSubplot at 0x7f4ca4e0cdd0>"
            ]
          },
          "metadata": {},
          "execution_count": 16
        },
        {
          "output_type": "display_data",
          "data": {
            "image/png": "[encoded data removed]",
            "text/plain": [
              "<Figure size 1440x864 with 6 Axes>"
            ]
          },
          "metadata": {
            "needs_background": "light"
          }
        }
      ]
    },
    {
      "cell_type": "code",
      "metadata": {
        "colab": {
          "base_uri": "https://localhost:8080/",
          "height": 731
        },
        "id": "XGsmNX5AliIv",
        "outputId": "cb8fd3de-c466-4ee4-a94c-496a36a54c55"
      },
      "source": [
        "    # Relations based on the continuous data attributes\n",
        "    fig, axarr = plt.subplots(2, 2, figsize=(20, 12))\n",
        "    sns.boxplot(y='CredRate',x = 'Exited', hue = 'Exited',data = df, ax=axarr[0][0])\n",
        "    sns.boxplot(y='Age',x = 'Exited', hue = 'Exited',data = df , ax=axarr[0][1])\n",
        "    sns.boxplot(y='Balance',x = 'Exited', hue = 'Exited',data = df, ax=axarr[1][0])\n",
        "    sns.boxplot(y='EstimatedSalary',x = 'Exited', hue = 'Exited',data = df, ax=axarr[1][1])"
      ],
      "execution_count": 17,
      "outputs": [
        {
          "output_type": "execute_result",
          "data": {
            "text/plain": [
              "<matplotlib.axes._subplots.AxesSubplot at 0x7f4ca4bbcc50>"
            ]
          },
          "metadata": {},
          "execution_count": 17
        },
        {
          "output_type": "display_data",
          "data": {
            "image/png": "[encoded data removed]",
            "text/plain": [
              "<Figure size 1440x864 with 4 Axes>"
            ]
          },
          "metadata": {
            "needs_background": "light"
          }
        }
      ]
    },
    {
      "cell_type": "markdown",
      "metadata": {
        "id": "WTWkxk9_nFCJ"
      },
      "source": [
        "### **Encode string features**"
      ]
    },
    {
      "cell_type": "code",
      "metadata": {
        "id": "OofDQw_roLy1",
        "colab": {
          "base_uri": "https://localhost:8080/"
        },
        "outputId": "de46e572-e6c8-4b13-fdb6-f3fb4d9ecf92"
      },
      "source": [
        "#print data types\n",
        "df.dtypes"
      ],
      "execution_count": 18,
      "outputs": [
        {
          "output_type": "execute_result",
          "data": {
            "text/plain": [
              "CredRate             int64\n",
              "Geography           object\n",
              "Gender              object\n",
              "Age                float64\n",
              "Tenure               int64\n",
              "Balance            float64\n",
              "Prod Number          int64\n",
              "HasCrCard            int64\n",
              "ActMem               int64\n",
              "EstimatedSalary    float64\n",
              "Exited               int64\n",
              "dtype: object"
            ]
          },
          "metadata": {},
          "execution_count": 18
        }
      ]
    },
    {
      "cell_type": "code",
      "metadata": {
        "id": "zCg1AFsA9ZgS"
      },
      "source": [
        "# convert objects to str\n",
        "df['Geography'] = df['Geography'].astype(str)\n",
        "df['Gender'] = df['Gender'].astype(str)"
      ],
      "execution_count": 19,
      "outputs": []
    },
    {
      "cell_type": "code",
      "metadata": {
        "id": "ZONywSyV-CSE"
      },
      "source": [
        "#encoding labels\n",
        "le_geography    = preprocessing.LabelEncoder()\n",
        "le_gender  = preprocessing.LabelEncoder()\n",
        "\n",
        "le_geography.fit(df['Geography'])\n",
        "le_gender.fit(df['Gender'])\n",
        "\n",
        "df['Geography'] = le_geography.transform(df['Geography'])\n",
        "df['Gender'] = le_gender.transform(df['Gender'])"
      ],
      "execution_count": 20,
      "outputs": []
    },
    {
      "cell_type": "code",
      "metadata": {
        "colab": {
          "base_uri": "https://localhost:8080/",
          "height": 359
        },
        "id": "ZZM2IW0C-kev",
        "outputId": "eeb48316-e579-47ce-ec51-8c494b8fe30b"
      },
      "source": [
        "#visualize top 10 values\n",
        "df.head(10)"
      ],
      "execution_count": 21,
      "outputs": [
        {
          "output_type": "execute_result",
          "data": {
            "text/html": [
              "<div>\n",
              "<style scoped>\n",
              "    .dataframe tbody tr th:only-of-type {\n",
              "        vertical-align: middle;\n",
              "    }\n",
              "\n",
              "    .dataframe tbody tr th {\n",
              "        vertical-align: top;\n",
              "    }\n",
              "\n",
              "    .dataframe thead th {\n",
              "        text-align: right;\n",
              "    }\n",
              "</style>\n",
              "<table border=\"1\" class=\"dataframe\">\n",
              "  <thead>\n",
              "    <tr style=\"text-align: right;\">\n",
              "      <th></th>\n",
              "      <th>CredRate</th>\n",
              "      <th>Geography</th>\n",
              "      <th>Gender</th>\n",
              "      <th>Age</th>\n",
              "      <th>Tenure</th>\n",
              "      <th>Balance</th>\n",
              "      <th>Prod Number</th>\n",
              "      <th>HasCrCard</th>\n",
              "      <th>ActMem</th>\n",
              "      <th>EstimatedSalary</th>\n",
              "      <th>Exited</th>\n",
              "    </tr>\n",
              "  </thead>\n",
              "  <tbody>\n",
              "    <tr>\n",
              "      <th>0</th>\n",
              "      <td>619</td>\n",
              "      <td>0</td>\n",
              "      <td>0</td>\n",
              "      <td>42.0</td>\n",
              "      <td>2</td>\n",
              "      <td>0.00</td>\n",
              "      <td>1</td>\n",
              "      <td>1</td>\n",
              "      <td>1</td>\n",
              "      <td>101348.88</td>\n",
              "      <td>1</td>\n",
              "    </tr>\n",
              "    <tr>\n",
              "      <th>1</th>\n",
              "      <td>608</td>\n",
              "      <td>2</td>\n",
              "      <td>0</td>\n",
              "      <td>41.0</td>\n",
              "      <td>1</td>\n",
              "      <td>83807.86</td>\n",
              "      <td>1</td>\n",
              "      <td>0</td>\n",
              "      <td>1</td>\n",
              "      <td>112542.58</td>\n",
              "      <td>0</td>\n",
              "    </tr>\n",
              "    <tr>\n",
              "      <th>2</th>\n",
              "      <td>502</td>\n",
              "      <td>0</td>\n",
              "      <td>0</td>\n",
              "      <td>42.0</td>\n",
              "      <td>8</td>\n",
              "      <td>159660.80</td>\n",
              "      <td>3</td>\n",
              "      <td>1</td>\n",
              "      <td>0</td>\n",
              "      <td>113931.57</td>\n",
              "      <td>1</td>\n",
              "    </tr>\n",
              "    <tr>\n",
              "      <th>3</th>\n",
              "      <td>699</td>\n",
              "      <td>0</td>\n",
              "      <td>0</td>\n",
              "      <td>39.0</td>\n",
              "      <td>1</td>\n",
              "      <td>0.00</td>\n",
              "      <td>2</td>\n",
              "      <td>0</td>\n",
              "      <td>0</td>\n",
              "      <td>93826.63</td>\n",
              "      <td>0</td>\n",
              "    </tr>\n",
              "    <tr>\n",
              "      <th>4</th>\n",
              "      <td>850</td>\n",
              "      <td>2</td>\n",
              "      <td>0</td>\n",
              "      <td>43.0</td>\n",
              "      <td>2</td>\n",
              "      <td>125510.82</td>\n",
              "      <td>1</td>\n",
              "      <td>1</td>\n",
              "      <td>1</td>\n",
              "      <td>79084.10</td>\n",
              "      <td>0</td>\n",
              "    </tr>\n",
              "    <tr>\n",
              "      <th>5</th>\n",
              "      <td>645</td>\n",
              "      <td>2</td>\n",
              "      <td>1</td>\n",
              "      <td>44.0</td>\n",
              "      <td>8</td>\n",
              "      <td>113755.78</td>\n",
              "      <td>2</td>\n",
              "      <td>1</td>\n",
              "      <td>0</td>\n",
              "      <td>149756.71</td>\n",
              "      <td>1</td>\n",
              "    </tr>\n",
              "    <tr>\n",
              "      <th>7</th>\n",
              "      <td>376</td>\n",
              "      <td>1</td>\n",
              "      <td>0</td>\n",
              "      <td>29.0</td>\n",
              "      <td>4</td>\n",
              "      <td>115046.74</td>\n",
              "      <td>4</td>\n",
              "      <td>1</td>\n",
              "      <td>0</td>\n",
              "      <td>119346.88</td>\n",
              "      <td>1</td>\n",
              "    </tr>\n",
              "    <tr>\n",
              "      <th>8</th>\n",
              "      <td>501</td>\n",
              "      <td>0</td>\n",
              "      <td>1</td>\n",
              "      <td>44.0</td>\n",
              "      <td>4</td>\n",
              "      <td>142051.07</td>\n",
              "      <td>2</td>\n",
              "      <td>0</td>\n",
              "      <td>1</td>\n",
              "      <td>74940.50</td>\n",
              "      <td>0</td>\n",
              "    </tr>\n",
              "    <tr>\n",
              "      <th>9</th>\n",
              "      <td>684</td>\n",
              "      <td>0</td>\n",
              "      <td>1</td>\n",
              "      <td>27.0</td>\n",
              "      <td>2</td>\n",
              "      <td>134603.88</td>\n",
              "      <td>1</td>\n",
              "      <td>1</td>\n",
              "      <td>1</td>\n",
              "      <td>71725.73</td>\n",
              "      <td>0</td>\n",
              "    </tr>\n",
              "    <tr>\n",
              "      <th>13</th>\n",
              "      <td>549</td>\n",
              "      <td>0</td>\n",
              "      <td>0</td>\n",
              "      <td>25.0</td>\n",
              "      <td>5</td>\n",
              "      <td>0.00</td>\n",
              "      <td>2</td>\n",
              "      <td>0</td>\n",
              "      <td>0</td>\n",
              "      <td>190857.79</td>\n",
              "      <td>0</td>\n",
              "    </tr>\n",
              "  </tbody>\n",
              "</table>\n",
              "</div>"
            ],
            "text/plain": [
              "    CredRate  Geography  Gender  ...  ActMem  EstimatedSalary  Exited\n",
              "0        619          0       0  ...       1        101348.88       1\n",
              "1        608          2       0  ...       1        112542.58       0\n",
              "2        502          0       0  ...       0        113931.57       1\n",
              "3        699          0       0  ...       0         93826.63       0\n",
              "4        850          2       0  ...       1         79084.10       0\n",
              "5        645          2       1  ...       0        149756.71       1\n",
              "7        376          1       0  ...       0        119346.88       1\n",
              "8        501          0       1  ...       1         74940.50       0\n",
              "9        684          0       1  ...       1         71725.73       0\n",
              "13       549          0       0  ...       0        190857.79       0\n",
              "\n",
              "[10 rows x 11 columns]"
            ]
          },
          "metadata": {},
          "execution_count": 21
        }
      ]
    },
    {
      "cell_type": "code",
      "metadata": {
        "colab": {
          "base_uri": "https://localhost:8080/",
          "height": 833
        },
        "id": "mfsjLlrKh8GT",
        "outputId": "7c36f006-e047-4949-ae01-0b8c98b8df7e"
      },
      "source": [
        "#ploting corealtion table\n",
        "rcParams['figure.figsize'] = 20, 14\n",
        "plt.matshow(df.corr())\n",
        "plt.yticks(np.arange(df.shape[1]), df.columns)\n",
        "plt.xticks(np.arange(df.shape[1]), df.columns)\n",
        "plt.colorbar()"
      ],
      "execution_count": 22,
      "outputs": [
        {
          "output_type": "execute_result",
          "data": {
            "text/plain": [
              "<matplotlib.colorbar.Colorbar at 0x7f4ca49b7850>"
            ]
          },
          "metadata": {},
          "execution_count": 22
        },
        {
          "output_type": "display_data",
          "data": {
            "image/png": "[encoded data removed]",
            "text/plain": [
              "<Figure size 1008x1008 with 2 Axes>"
            ]
          },
          "metadata": {
            "needs_background": "light"
          }
        }
      ]
    },
    {
      "cell_type": "markdown",
      "metadata": {
        "id": "z9Bkpdll_vJn"
      },
      "source": [
        "# **Machine learning model training:**"
      ]
    },
    {
      "cell_type": "code",
      "metadata": {
        "id": "lytDbc74Twdm"
      },
      "source": [
        "# seprate data into X and Y\n",
        "X = df.drop('Exited', axis=1)\n",
        "Y = df['Exited']"
      ],
      "execution_count": 23,
      "outputs": []
    },
    {
      "cell_type": "code",
      "metadata": {
        "colab": {
          "base_uri": "https://localhost:8080/",
          "height": 419
        },
        "id": "TFxyjgu4pBFj",
        "outputId": "89f44402-8667-45ec-ed72-d2a4bdf67b7e"
      },
      "source": [
        "#normalizing data\n",
        "XN=preprocessing.scale(X)\n",
        "XN=pd.DataFrame(XN,columns=X.columns)\n",
        "XN"
      ],
      "execution_count": 24,
      "outputs": [
        {
          "output_type": "execute_result",
          "data": {
            "text/html": [
              "<div>\n",
              "<style scoped>\n",
              "    .dataframe tbody tr th:only-of-type {\n",
              "        vertical-align: middle;\n",
              "    }\n",
              "\n",
              "    .dataframe tbody tr th {\n",
              "        vertical-align: top;\n",
              "    }\n",
              "\n",
              "    .dataframe thead th {\n",
              "        text-align: right;\n",
              "    }\n",
              "</style>\n",
              "<table border=\"1\" class=\"dataframe\">\n",
              "  <thead>\n",
              "    <tr style=\"text-align: right;\">\n",
              "      <th></th>\n",
              "      <th>CredRate</th>\n",
              "      <th>Geography</th>\n",
              "      <th>Gender</th>\n",
              "      <th>Age</th>\n",
              "      <th>Tenure</th>\n",
              "      <th>Balance</th>\n",
              "      <th>Prod Number</th>\n",
              "      <th>HasCrCard</th>\n",
              "      <th>ActMem</th>\n",
              "      <th>EstimatedSalary</th>\n",
              "    </tr>\n",
              "  </thead>\n",
              "  <tbody>\n",
              "    <tr>\n",
              "      <th>0</th>\n",
              "      <td>-0.326757</td>\n",
              "      <td>-0.902025</td>\n",
              "      <td>-1.095244</td>\n",
              "      <td>0.292855</td>\n",
              "      <td>-1.041137</td>\n",
              "      <td>-1.226829</td>\n",
              "      <td>-0.911311</td>\n",
              "      <td>0.645955</td>\n",
              "      <td>0.970201</td>\n",
              "      <td>0.021985</td>\n",
              "    </tr>\n",
              "    <tr>\n",
              "      <th>1</th>\n",
              "      <td>-0.440629</td>\n",
              "      <td>1.515156</td>\n",
              "      <td>-1.095244</td>\n",
              "      <td>0.197531</td>\n",
              "      <td>-1.386981</td>\n",
              "      <td>0.116500</td>\n",
              "      <td>-0.911311</td>\n",
              "      <td>-1.548095</td>\n",
              "      <td>0.970201</td>\n",
              "      <td>0.216627</td>\n",
              "    </tr>\n",
              "    <tr>\n",
              "      <th>2</th>\n",
              "      <td>-1.537939</td>\n",
              "      <td>-0.902025</td>\n",
              "      <td>-1.095244</td>\n",
              "      <td>0.292855</td>\n",
              "      <td>1.033933</td>\n",
              "      <td>1.332323</td>\n",
              "      <td>2.526676</td>\n",
              "      <td>0.645955</td>\n",
              "      <td>-1.030714</td>\n",
              "      <td>0.240780</td>\n",
              "    </tr>\n",
              "    <tr>\n",
              "      <th>3</th>\n",
              "      <td>0.501402</td>\n",
              "      <td>-0.902025</td>\n",
              "      <td>-1.095244</td>\n",
              "      <td>0.006883</td>\n",
              "      <td>-1.386981</td>\n",
              "      <td>-1.226829</td>\n",
              "      <td>0.807683</td>\n",
              "      <td>-1.548095</td>\n",
              "      <td>-1.030714</td>\n",
              "      <td>-0.108816</td>\n",
              "    </tr>\n",
              "    <tr>\n",
              "      <th>4</th>\n",
              "      <td>2.064551</td>\n",
              "      <td>1.515156</td>\n",
              "      <td>-1.095244</td>\n",
              "      <td>0.388179</td>\n",
              "      <td>-1.041137</td>\n",
              "      <td>0.784943</td>\n",
              "      <td>-0.911311</td>\n",
              "      <td>0.645955</td>\n",
              "      <td>0.970201</td>\n",
              "      <td>-0.365167</td>\n",
              "    </tr>\n",
              "    <tr>\n",
              "      <th>...</th>\n",
              "      <td>...</td>\n",
              "      <td>...</td>\n",
              "      <td>...</td>\n",
              "      <td>...</td>\n",
              "      <td>...</td>\n",
              "      <td>...</td>\n",
              "      <td>...</td>\n",
              "      <td>...</td>\n",
              "      <td>...</td>\n",
              "      <td>...</td>\n",
              "    </tr>\n",
              "    <tr>\n",
              "      <th>9981</th>\n",
              "      <td>1.246744</td>\n",
              "      <td>-0.902025</td>\n",
              "      <td>0.913039</td>\n",
              "      <td>0.006883</td>\n",
              "      <td>-0.003602</td>\n",
              "      <td>-1.226829</td>\n",
              "      <td>0.807683</td>\n",
              "      <td>0.645955</td>\n",
              "      <td>-1.030714</td>\n",
              "      <td>-0.066318</td>\n",
              "    </tr>\n",
              "    <tr>\n",
              "      <th>9982</th>\n",
              "      <td>-1.393012</td>\n",
              "      <td>-0.902025</td>\n",
              "      <td>0.913039</td>\n",
              "      <td>-0.374414</td>\n",
              "      <td>1.725623</td>\n",
              "      <td>-0.307270</td>\n",
              "      <td>-0.911311</td>\n",
              "      <td>0.645955</td>\n",
              "      <td>0.970201</td>\n",
              "      <td>0.028087</td>\n",
              "    </tr>\n",
              "    <tr>\n",
              "      <th>9983</th>\n",
              "      <td>0.604921</td>\n",
              "      <td>-0.902025</td>\n",
              "      <td>-1.095244</td>\n",
              "      <td>-0.279090</td>\n",
              "      <td>0.688088</td>\n",
              "      <td>-1.226829</td>\n",
              "      <td>-0.911311</td>\n",
              "      <td>-1.548095</td>\n",
              "      <td>0.970201</td>\n",
              "      <td>-1.008518</td>\n",
              "    </tr>\n",
              "    <tr>\n",
              "      <th>9984</th>\n",
              "      <td>1.257096</td>\n",
              "      <td>0.306565</td>\n",
              "      <td>0.913039</td>\n",
              "      <td>0.292855</td>\n",
              "      <td>-0.695292</td>\n",
              "      <td>-0.023471</td>\n",
              "      <td>0.807683</td>\n",
              "      <td>0.645955</td>\n",
              "      <td>-1.030714</td>\n",
              "      <td>-0.125128</td>\n",
              "    </tr>\n",
              "    <tr>\n",
              "      <th>9985</th>\n",
              "      <td>1.464136</td>\n",
              "      <td>-0.902025</td>\n",
              "      <td>-1.095244</td>\n",
              "      <td>-1.041683</td>\n",
              "      <td>-0.349447</td>\n",
              "      <td>0.859188</td>\n",
              "      <td>-0.911311</td>\n",
              "      <td>0.645955</td>\n",
              "      <td>-1.030714</td>\n",
              "      <td>-1.076243</td>\n",
              "    </tr>\n",
              "  </tbody>\n",
              "</table>\n",
              "<p>9986 rows × 10 columns</p>\n",
              "</div>"
            ],
            "text/plain": [
              "      CredRate  Geography    Gender  ...  HasCrCard    ActMem  EstimatedSalary\n",
              "0    -0.326757  -0.902025 -1.095244  ...   0.645955  0.970201         0.021985\n",
              "1    -0.440629   1.515156 -1.095244  ...  -1.548095  0.970201         0.216627\n",
              "2    -1.537939  -0.902025 -1.095244  ...   0.645955 -1.030714         0.240780\n",
              "3     0.501402  -0.902025 -1.095244  ...  -1.548095 -1.030714        -0.108816\n",
              "4     2.064551   1.515156 -1.095244  ...   0.645955  0.970201        -0.365167\n",
              "...        ...        ...       ...  ...        ...       ...              ...\n",
              "9981  1.246744  -0.902025  0.913039  ...   0.645955 -1.030714        -0.066318\n",
              "9982 -1.393012  -0.902025  0.913039  ...   0.645955  0.970201         0.028087\n",
              "9983  0.604921  -0.902025 -1.095244  ...  -1.548095  0.970201        -1.008518\n",
              "9984  1.257096   0.306565  0.913039  ...   0.645955 -1.030714        -0.125128\n",
              "9985  1.464136  -0.902025 -1.095244  ...   0.645955 -1.030714        -1.076243\n",
              "\n",
              "[9986 rows x 10 columns]"
            ]
          },
          "metadata": {},
          "execution_count": 24
        }
      ]
    },
    {
      "cell_type": "code",
      "metadata": {
        "id": "5e4R0PYZp8rM"
      },
      "source": [
        "X=XN"
      ],
      "execution_count": 25,
      "outputs": []
    },
    {
      "cell_type": "code",
      "metadata": {
        "id": "HuNkw6jmTlqx"
      },
      "source": [
        "#split data into train and test variable \n",
        "from sklearn.model_selection import train_test_split\n",
        "train_x, test_x, train_y, test_y = train_test_split(X,Y, test_size=0.3) #30% Data for test and 70% for train"
      ],
      "execution_count": 26,
      "outputs": []
    },
    {
      "cell_type": "code",
      "metadata": {
        "id": "RZ7MCdddTC1u"
      },
      "source": [
        "#initializing lists to store data\n",
        "ModelName=[]\n",
        "TestAccuracy=[]\n",
        "TrainAccuracy=[]\n",
        "PredictedResult=[]\n",
        "ConfusionMatrix=[]\n",
        "Probes=[]\n",
        "models=[]"
      ],
      "execution_count": 27,
      "outputs": []
    },
    {
      "cell_type": "code",
      "metadata": {
        "colab": {
          "base_uri": "https://localhost:8080/"
        },
        "id": "7SzyyE26aaoC",
        "outputId": "63165e83-ceae-4149-9341-d8cecdf9f8d0"
      },
      "source": [
        "from sklearn.model_selection import KFold\n",
        "from sklearn.model_selection import cross_val_score\n",
        "#create pipelines\n",
        "pipelines = []\n",
        "pipelines.append(LogisticRegression())\n",
        "pipelines.append(RandomForestClassifier(n_estimators=100))\n",
        "pipelines.append(DecisionTreeClassifier())\n",
        "pipelines.append(KNeighborsClassifier(n_neighbors=5))\n",
        "pipelines.append(GaussianNB())\n",
        "names = [\"Logistic Regression\",'Random Forest','Decision Tree','KNN',\"Nive Bias\"]\n",
        "i=0\n",
        "for model in pipelines:\n",
        "    kfold = KFold(n_splits=10, random_state=21,shuffle=True)\n",
        "    cv_results = cross_val_score(model, train_x, train_y, cv=kfold, scoring='accuracy')\n",
        "\n",
        "    ModelName.append(names[i]) #append model name in list\n",
        "    model.fit(train_x, train_y) #train model\n",
        "    y_predicted = model.predict(test_x) #predict results\n",
        "    PredictedResult.append(list(y_predicted)) #append results in list\n",
        "    train_Acc = model.score(train_x, train_y) # calculate training accuracy\n",
        "    print('train accuracy for ',names[i],'=',train_Acc) #print traning accuracy\n",
        "    TrainAccuracy.append(train_Acc) #append train accuracy in list\n",
        "    test_Acc = cross_val_score(model, train_x, train_y, cv=kfold, scoring='accuracy') # calculate test accuracy\n",
        "    TestAccuracy.append(test_Acc.mean()) # apppend accuracy value in list\n",
        "    print('Mean of K-fold test accuracy for ',names[i],'=',test_Acc.mean()) #print test accuracy \n",
        "    print('\\n') \n",
        "    ConfusionMatrix.append(confusion_matrix(test_y,y_predicted)) # store confussion matrix in list\n",
        "    Probes.append(model.predict_proba(test_x))\n",
        "    models.append(model)\n",
        "    i+=1"
      ],
      "execution_count": 28,
      "outputs": [
        {
          "output_type": "stream",
          "text": [
            "train accuracy for  Logistic Regression = 0.8047210300429185\n",
            "Mean of K-fold test accuracy for  Logistic Regression = 0.8042918454935624\n",
            "\n",
            "\n",
            "train accuracy for  Random Forest = 0.999856938483548\n",
            "Mean of K-fold test accuracy for  Random Forest = 0.8572246065808298\n",
            "\n",
            "\n",
            "train accuracy for  Decision Tree = 1.0\n",
            "Mean of K-fold test accuracy for  Decision Tree = 0.7872675250357654\n",
            "\n",
            "\n",
            "train accuracy for  KNN = 0.8732474964234621\n",
            "Mean of K-fold test accuracy for  KNN = 0.8258941344778256\n",
            "\n",
            "\n",
            "train accuracy for  Nive Bias = 0.8258941344778254\n",
            "Mean of K-fold test accuracy for  Nive Bias = 0.8254649499284692\n",
            "\n",
            "\n"
          ],
          "name": "stdout"
        }
      ]
    },
    {
      "cell_type": "markdown",
      "metadata": {
        "id": "qG85jVnNp_b0"
      },
      "source": [
        "## **Evaluation/Results:**"
      ]
    },
    {
      "cell_type": "code",
      "metadata": {
        "colab": {
          "base_uri": "https://localhost:8080/",
          "height": 1000
        },
        "id": "_OHMn_SiZ8rk",
        "outputId": "e4d2c3ba-ef83-47f7-a509-8ee73091029e"
      },
      "source": [
        "#plot confussion matrix\n",
        "for i in range(len(ModelName)): #loop on lenth of list modelName\n",
        "  df_cm = pd.DataFrame(ConfusionMatrix[i], index = ['1','0'],columns = ['1','0']) #make dataframe of confusion matrix array\n",
        "  plt.figure(figsize = (5,3)) #initialize figure size\n",
        "  sns.heatmap(df_cm, annot=True, fmt='g') #plot heatmap\n",
        "  plt.xlabel(ModelName[i]) #set label"
      ],
      "execution_count": 38,
      "outputs": [
        {
          "output_type": "display_data",
          "data": {
            "image/png": "[encoded data removed]",
            "text/plain": [
              "<Figure size 360x216 with 2 Axes>"
            ]
          },
          "metadata": {
            "needs_background": "light"
          }
        },
        {
          "output_type": "display_data",
          "data": {
            "image/png": "[encoded data removed]",
            "text/plain": [
              "<Figure size 360x216 with 2 Axes>"
            ]
          },
          "metadata": {
            "needs_background": "light"
          }
        },
        {
          "output_type": "display_data",
          "data": {
            "image/png": "[encoded data removed]",
            "text/plain": [
              "<Figure size 360x216 with 2 Axes>"
            ]
          },
          "metadata": {
            "needs_background": "light"
          }
        },
        {
          "output_type": "display_data",
          "data": {
            "image/png": "[encoded data removed]",
            "text/plain": [
              "<Figure size 360x216 with 2 Axes>"
            ]
          },
          "metadata": {
            "needs_background": "light"
          }
        },
        {
          "output_type": "display_data",
          "data": {
            "image/png": "[encoded data removed]",
            "text/plain": [
              "<Figure size 360x216 with 2 Axes>"
            ]
          },
          "metadata": {
            "needs_background": "light"
          }
        }
      ]
    },
    {
      "cell_type": "code",
      "metadata": {
        "id": "R8QSEtxlvpOK"
      },
      "source": [
        "#initializing list\n",
        "Sensitivity=[]\n",
        "Specificity=[]\n",
        "Precision=[]\n",
        "\n",
        "for i in range(len(ModelName)):\n",
        "  TP=ConfusionMatrix[i][0][0] #get TP from ConfusionMatrix\n",
        "  TN=ConfusionMatrix[i][0][1] #get TN from ConfusionMatrix\n",
        "  FP=ConfusionMatrix[i][1][1] #get FP from ConfusionMatrix\n",
        "  FN=ConfusionMatrix[i][1][0] #get FN from ConfusionMatrix\n",
        "  # Sensitivity, hit rate, recall, or true positive rate\n",
        "  TPR = TP/(TP+FN) # Calculate true positive rate\n",
        "  Sensitivity.append(TPR)\n",
        "  # Specificity or true negative rate\n",
        "  TNR = TN/(TN+FP) # Calculate true negative rate\n",
        "  Specificity.append(TNR)\n",
        "  # Precision or positive predictive value\n",
        "  PPV = TP/(TP+FP) # Calculate positive predictive rate\n",
        "  Precision.append(PPV)"
      ],
      "execution_count": 39,
      "outputs": []
    },
    {
      "cell_type": "code",
      "metadata": {
        "colab": {
          "base_uri": "https://localhost:8080/",
          "height": 459
        },
        "id": "F3VHV90cwRn5",
        "outputId": "6de0cbe0-17ed-48e8-e738-afbd32129e9a"
      },
      "source": [
        "rcParams['figure.figsize'] = 15,7 # initialize figure size\n",
        "# make list of colors with condition if value is higher add green color other wise add gray color\n",
        "clrs = ['grey' if (x < max(Sensitivity)) else 'green' for x in Sensitivity] \n",
        "plt.bar(ModelName,Sensitivity,color=clrs) #plot bar graph\n",
        "plt.xticks(ModelName) #set x ticks\n",
        "plt.xlabel('Model Names') #set x label\n",
        "plt.ylabel('Sensitivity Vlaues') #set y label"
      ],
      "execution_count": 40,
      "outputs": [
        {
          "output_type": "execute_result",
          "data": {
            "text/plain": [
              "Text(0, 0.5, 'Sensitivity Vlaues')"
            ]
          },
          "metadata": {},
          "execution_count": 40
        },
        {
          "output_type": "display_data",
          "data": {
            "image/png": "[encoded data removed]",
            "text/plain": [
              "<Figure size 1080x504 with 1 Axes>"
            ]
          },
          "metadata": {
            "needs_background": "light"
          }
        }
      ]
    },
    {
      "cell_type": "markdown",
      "metadata": {
        "id": "NWnzCuXPhjs9"
      },
      "source": [
        "its graphical compression of sensitivity for all models. The random forest has higher sensitivity than others."
      ]
    },
    {
      "cell_type": "code",
      "metadata": {
        "colab": {
          "base_uri": "https://localhost:8080/",
          "height": 459
        },
        "id": "1A25dCCowUd_",
        "outputId": "55acd3b7-78e1-4769-e375-d21190cd1b5a"
      },
      "source": [
        "rcParams['figure.figsize'] = 15,7 # initialize figure size\n",
        "# make list of colors with condition if value is lowest add green color other wise add gray color\n",
        "clrs = ['grey' if (x > min(Specificity)) else 'green' for x in Specificity ]\n",
        "plt.bar(ModelName,Specificity,color=clrs) #plot bar graph\n",
        "plt.xticks(ModelName) #set x ticks\n",
        "plt.xlabel('Model Names') #set x label\n",
        "plt.ylabel('Specificity Vlaues') #set y label"
      ],
      "execution_count": 41,
      "outputs": [
        {
          "output_type": "execute_result",
          "data": {
            "text/plain": [
              "Text(0, 0.5, 'Specificity Vlaues')"
            ]
          },
          "metadata": {},
          "execution_count": 41
        },
        {
          "output_type": "display_data",
          "data": {
            "image/png": "[encoded data removed]",
            "text/plain": [
              "<Figure size 1080x504 with 1 Axes>"
            ]
          },
          "metadata": {
            "needs_background": "light"
          }
        }
      ]
    },
    {
      "cell_type": "code",
      "metadata": {
        "colab": {
          "base_uri": "https://localhost:8080/",
          "height": 462
        },
        "id": "TFf_oItswZIJ",
        "outputId": "1624d04d-f1fe-469d-e158-c492072da260"
      },
      "source": [
        "rcParams['figure.figsize'] = 15,7 # initialize figure size\n",
        "# make list of colors with condition if value is higher add green color other wise add gray color\n",
        "clrs = ['grey' if (x < max(Precision)) else 'green' for x in Precision ] \n",
        "plt.bar(ModelName,Precision,color=clrs) #plot bar graph\n",
        "plt.xticks(ModelName)  #set x ticks\n",
        "plt.xlabel('Model Names') #set x label\n",
        "plt.ylabel('Precision Vlaues') #set y label"
      ],
      "execution_count": 42,
      "outputs": [
        {
          "output_type": "execute_result",
          "data": {
            "text/plain": [
              "Text(0, 0.5, 'Precision Vlaues')"
            ]
          },
          "metadata": {},
          "execution_count": 42
        },
        {
          "output_type": "display_data",
          "data": {
            "image/png": "[encoded data removed]",
            "text/plain": [
              "<Figure size 1080x504 with 1 Axes>"
            ]
          },
          "metadata": {
            "needs_background": "light"
          }
        }
      ]
    },
    {
      "cell_type": "code",
      "metadata": {
        "colab": {
          "base_uri": "https://localhost:8080/",
          "height": 459
        },
        "id": "WrX0KWw-wdYQ",
        "outputId": "43efd63c-1882-457b-b6c9-0721ba055f73"
      },
      "source": [
        "rcParams['figure.figsize'] = 15,7 # initialize figure size\n",
        "# make list of colors with condition if value is higher add green color other wise add gray color\n",
        "clrs = ['grey' if (x < max(TrainAccuracy)) else 'green' for x in TrainAccuracy ]\n",
        "plt.bar(ModelName,TrainAccuracy,color=clrs) #plot bar graph\n",
        "plt.xticks(ModelName) #set x ticks\n",
        "plt.xlabel('Model Names')#set x label\n",
        "plt.ylabel('Train Accuracy Vlaues') #set y label"
      ],
      "execution_count": 45,
      "outputs": [
        {
          "output_type": "execute_result",
          "data": {
            "text/plain": [
              "Text(0, 0.5, 'Train Accuracy Vlaues')"
            ]
          },
          "metadata": {},
          "execution_count": 45
        },
        {
          "output_type": "display_data",
          "data": {
            "image/png": "[encoded data removed]",
            "text/plain": [
              "<Figure size 1080x504 with 1 Axes>"
            ]
          },
          "metadata": {
            "needs_background": "light"
          }
        }
      ]
    },
    {
      "cell_type": "code",
      "metadata": {
        "colab": {
          "base_uri": "https://localhost:8080/",
          "height": 459
        },
        "id": "OpCbXEEbwg1d",
        "outputId": "f22d7287-eab8-4171-dcfa-74ee3dbfb8e8"
      },
      "source": [
        "rcParams['figure.figsize'] = 15,7 # initialize figure size\n",
        "# make list of colors with condition if value is higher add green color other wise add gray color\n",
        "clrs = ['grey' if (x < max(TestAccuracy)) else 'green' for x in TestAccuracy]\n",
        "plt.bar(ModelName,TestAccuracy,color=clrs) #plot bar graph\n",
        "plt.xticks(ModelName) #set x ticks\n",
        "plt.xlabel('Model Names') #set x label\n",
        "plt.ylabel('Test Accuracy Vlaues') #set y label"
      ],
      "execution_count": 46,
      "outputs": [
        {
          "output_type": "execute_result",
          "data": {
            "text/plain": [
              "Text(0, 0.5, 'Test Accuracy Vlaues')"
            ]
          },
          "metadata": {},
          "execution_count": 46
        },
        {
          "output_type": "display_data",
          "data": {
            "image/png": "[encoded data removed]",
            "text/plain": [
              "<Figure size 1080x504 with 1 Axes>"
            ]
          },
          "metadata": {
            "needs_background": "light"
          }
        }
      ]
    },
    {
      "cell_type": "code",
      "metadata": {
        "id": "K1s7bOj4wsno",
        "colab": {
          "base_uri": "https://localhost:8080/",
          "height": 697
        },
        "outputId": "7c96f04f-477c-4ddd-952a-66df6c063986"
      },
      "source": [
        "AUC=[] #ilitialize AUC list\n",
        "#import libraries\n",
        "from sklearn.metrics import roc_curve\n",
        "from sklearn.metrics import roc_auc_score\n",
        "for i in range(len(ModelName)):#loop model name list length\n",
        "  #condition to seprate target value and features\n",
        "  if i==len(ModelName)-1:\n",
        "    lr_probs = Probes[i][:, 0]\n",
        "  else:\n",
        "    lr_probs = Probes[i][:, 1]\n",
        "  lr_auc = roc_auc_score(test_y, PredictedResult[i]) #get AUC score\n",
        "  print(ModelName[i],': ROC AUC=%.3f' % (lr_auc)) #print AUC values\n",
        "  AUC.append(lr_auc) #append AUC in list\n",
        "  print('\\n')\n",
        "  lr_fpr, lr_tpr, _ = roc_curve(test_y, lr_probs) #get false positive and true negative values\n",
        "  plt.plot(lr_fpr, lr_tpr, marker='.', label=ModelName[i]) #plot curve\n",
        "plt.xlabel('False Positive Rate') #set xlabel\n",
        "plt.ylabel('True Positive Rate') #set y label\n",
        "plt.legend() #add legend\n",
        "plt.show()"
      ],
      "execution_count": 48,
      "outputs": [
        {
          "output_type": "stream",
          "text": [
            "Logistic Regression : ROC AUC=0.582\n",
            "\n",
            "\n",
            "Random Forest : ROC AUC=0.712\n",
            "\n",
            "\n",
            "Decision Tree : ROC AUC=0.672\n",
            "\n",
            "\n",
            "KNN : ROC AUC=0.673\n",
            "\n",
            "\n",
            "Nive Bias : ROC AUC=0.619\n",
            "\n",
            "\n"
          ],
          "name": "stdout"
        },
        {
          "output_type": "display_data",
          "data": {
            "image/png": "[encoded data removed]",
            "text/plain": [
              "<Figure size 1080x504 with 1 Axes>"
            ]
          },
          "metadata": {
            "needs_background": "light"
          }
        }
      ]
    },
    {
      "cell_type": "code",
      "metadata": {
        "colab": {
          "base_uri": "https://localhost:8080/",
          "height": 204
        },
        "id": "aHG_43osj7WY",
        "outputId": "b73f49dc-3a68-4d5a-9504-a87fb8bbdaad"
      },
      "source": [
        "import pandas as pd\n",
        "data = {'Senstivity':Sensitivity,'Specificty':Specificity,'Precision':Precision,'Train Accuracy':TrainAccuracy,'Test Accuracy':TestAccuracy,'AUC':AUC}\n",
        "df1 = pd.DataFrame(data, index=ModelName)\n",
        "df1"
      ],
      "execution_count": 49,
      "outputs": [
        {
          "output_type": "execute_result",
          "data": {
            "text/html": [
              "<div>\n",
              "<style scoped>\n",
              "    .dataframe tbody tr th:only-of-type {\n",
              "        vertical-align: middle;\n",
              "    }\n",
              "\n",
              "    .dataframe tbody tr th {\n",
              "        vertical-align: top;\n",
              "    }\n",
              "\n",
              "    .dataframe thead th {\n",
              "        text-align: right;\n",
              "    }\n",
              "</style>\n",
              "<table border=\"1\" class=\"dataframe\">\n",
              "  <thead>\n",
              "    <tr style=\"text-align: right;\">\n",
              "      <th></th>\n",
              "      <th>Senstivity</th>\n",
              "      <th>Specificty</th>\n",
              "      <th>Precision</th>\n",
              "      <th>Train Accuracy</th>\n",
              "      <th>Test Accuracy</th>\n",
              "      <th>AUC</th>\n",
              "    </tr>\n",
              "  </thead>\n",
              "  <tbody>\n",
              "    <tr>\n",
              "      <th>Logistic Regression</th>\n",
              "      <td>0.833511</td>\n",
              "      <td>0.379888</td>\n",
              "      <td>0.954860</td>\n",
              "      <td>0.804721</td>\n",
              "      <td>0.804292</td>\n",
              "      <td>0.581617</td>\n",
              "    </tr>\n",
              "    <tr>\n",
              "      <th>Random Forest</th>\n",
              "      <td>0.881549</td>\n",
              "      <td>0.259669</td>\n",
              "      <td>0.896525</td>\n",
              "      <td>0.999857</td>\n",
              "      <td>0.857225</td>\n",
              "      <td>0.711581</td>\n",
              "    </tr>\n",
              "    <tr>\n",
              "      <th>Decision Tree</th>\n",
              "      <td>0.874315</td>\n",
              "      <td>0.548800</td>\n",
              "      <td>0.880255</td>\n",
              "      <td>1.000000</td>\n",
              "      <td>0.787268</td>\n",
              "      <td>0.672118</td>\n",
              "    </tr>\n",
              "    <tr>\n",
              "      <th>KNN</th>\n",
              "      <td>0.867675</td>\n",
              "      <td>0.344729</td>\n",
              "      <td>0.908911</td>\n",
              "      <td>0.873247</td>\n",
              "      <td>0.825894</td>\n",
              "      <td>0.673234</td>\n",
              "    </tr>\n",
              "    <tr>\n",
              "      <th>Nive Bias</th>\n",
              "      <td>0.846016</td>\n",
              "      <td>0.243655</td>\n",
              "      <td>0.940803</td>\n",
              "      <td>0.825894</td>\n",
              "      <td>0.825465</td>\n",
              "      <td>0.618515</td>\n",
              "    </tr>\n",
              "  </tbody>\n",
              "</table>\n",
              "</div>"
            ],
            "text/plain": [
              "                     Senstivity  Specificty  ...  Test Accuracy       AUC\n",
              "Logistic Regression    0.833511    0.379888  ...       0.804292  0.581617\n",
              "Random Forest          0.881549    0.259669  ...       0.857225  0.711581\n",
              "Decision Tree          0.874315    0.548800  ...       0.787268  0.672118\n",
              "KNN                    0.867675    0.344729  ...       0.825894  0.673234\n",
              "Nive Bias              0.846016    0.243655  ...       0.825465  0.618515\n",
              "\n",
              "[5 rows x 6 columns]"
            ]
          },
          "metadata": {},
          "execution_count": 49
        }
      ]
    },
    {
      "cell_type": "code",
      "metadata": {
        "id": "xQFMNuKL_ZRn"
      },
      "source": [
        ""
      ],
      "execution_count": null,
      "outputs": []
    }
  ]
}